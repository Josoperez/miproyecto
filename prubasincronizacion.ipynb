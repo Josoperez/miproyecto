{
 "cells": [
  {
   "cell_type": "code",
   "execution_count": 1,
   "id": "7763db58-e873-4857-a8bb-12ba0de95d2c",
   "metadata": {},
   "outputs": [
    {
     "name": "stdout",
     "output_type": "stream",
     "text": [
      "mi primer ejercicio desdepues de sincronizar el github\n"
     ]
    }
   ],
   "source": [
    "print(\"mi primer ejercicio desdepues de sincronizar el github\")"
   ]
  },
  {
   "cell_type": "code",
   "execution_count": null,
   "id": "055fa926-805b-43d8-8c31-dc50c62c2b79",
   "metadata": {},
   "outputs": [],
   "source": []
  }
 ],
 "metadata": {
  "kernelspec": {
   "display_name": "Python 3 (ipykernel)",
   "language": "python",
   "name": "python3"
  },
  "language_info": {
   "codemirror_mode": {
    "name": "ipython",
    "version": 3
   },
   "file_extension": ".py",
   "mimetype": "text/x-python",
   "name": "python",
   "nbconvert_exporter": "python",
   "pygments_lexer": "ipython3",
   "version": "3.12.4"
  }
 },
 "nbformat": 4,
 "nbformat_minor": 5
}
