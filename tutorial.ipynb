{
 "cells": [
  {
   "cell_type": "markdown",
   "id": "617a1e1c-4768-44a3-a998-8758214feb2d",
   "metadata": {},
   "source": [
    "         Tutorial paso a páso"
   ]
  },
  {
   "cell_type": "code",
   "execution_count": 5,
   "id": "f19a21b8-7f51-4e8b-940c-ee8c14b20b51",
   "metadata": {},
   "outputs": [
    {
     "name": "stdout",
     "output_type": "stream",
     "text": [
      "[1 2 3 4 5]\n"
     ]
    }
   ],
   "source": [
    "import numpy  as np\n",
    "arreglo=np.array([1,2,3,4,5])\n",
    "print(arreglo)"
   ]
  },
  {
   "cell_type": "code",
   "execution_count": 6,
   "id": "e7e4fda2-eb34-4d9f-8405-abeeda673589",
   "metadata": {},
   "outputs": [
    {
     "name": "stdout",
     "output_type": "stream",
     "text": [
      "[1 2 3]\n"
     ]
    }
   ],
   "source": [
    "import numpy  as np\n",
    "arreglo_1d=np.array([1,2,3])\n",
    "print(arreglo_1d)"
   ]
  },
  {
   "cell_type": "code",
   "execution_count": 7,
   "id": "9adf9207-a4cc-4e13-abf9-55818cd4f844",
   "metadata": {},
   "outputs": [
    {
     "name": "stdout",
     "output_type": "stream",
     "text": [
      "[[1 2 3]\n",
      " [4 5 6]]\n"
     ]
    }
   ],
   "source": [
    "arreglo_2d=np.array([[1,2,3],[4,5,6]])\n",
    "print(arreglo_2d)"
   ]
  },
  {
   "cell_type": "code",
   "execution_count": 8,
   "id": "a3478ecf-9338-4fb9-af6b-76ee7fa1b6ac",
   "metadata": {},
   "outputs": [
    {
     "name": "stdout",
     "output_type": "stream",
     "text": [
      "ceros:\n",
      " [[0. 0. 0.]\n",
      " [0. 0. 0.]]\n",
      "unos:\n",
      " [[1. 1.]\n",
      " [1. 1.]\n",
      " [1. 1.]]\n"
     ]
    }
   ],
   "source": [
    "ceros=np.zeros((2,3))\n",
    "unos=np.ones ((3,2))\n",
    "print(\"ceros:\\n\",ceros)\n",
    "print(\"unos:\\n\",unos)"
   ]
  },
  {
   "cell_type": "code",
   "execution_count": 9,
   "id": "7bf86781-8d83-4eac-a1cb-f271e46ee045",
   "metadata": {},
   "outputs": [
    {
     "name": "stdout",
     "output_type": "stream",
     "text": [
      "[0 2 4 6 8]\n"
     ]
    }
   ],
   "source": [
    "rango=np.arange(0,10,2)\n",
    "print(rango)\n"
   ]
  },
  {
   "cell_type": "code",
   "execution_count": 10,
   "id": "6638255b-8707-46ff-a1dc-1e140908a381",
   "metadata": {},
   "outputs": [
    {
     "name": "stdout",
     "output_type": "stream",
     "text": [
      "Dimensiones: 2\n",
      "Forma: (3, 2)\n",
      "Tamaño: 6\n"
     ]
    }
   ],
   "source": [
    "arreglo_2d = np.array([[1, 2], [3, 4], [5, 6]])\n",
    "\n",
    "print(\"Dimensiones:\", arreglo_2d.ndim) #\n",
    "\n",
    "print(\"Forma:\", arreglo_2d.shape)\n",
    "\n",
    "print(\"Tamaño:\", arreglo_2d.size)\n"
   ]
  },
  {
   "cell_type": "code",
   "execution_count": 11,
   "id": "5c263496-dfe8-457f-97b7-bc7706febbc2",
   "metadata": {},
   "outputs": [
    {
     "name": "stdout",
     "output_type": "stream",
     "text": [
      "Tipo de datos: int32\n"
     ]
    }
   ],
   "source": [
    "print(\"Tipo de datos:\", arreglo_2d.dtype)"
   ]
  },
  {
   "cell_type": "code",
   "execution_count": 12,
   "id": "e7f83e55-0fc6-4762-ae74-606ed2fa2624",
   "metadata": {},
   "outputs": [
    {
     "name": "stdout",
     "output_type": "stream",
     "text": [
      "Suma: [5 7 9]\n",
      "Multiplicación: [ 4 10 18]\n"
     ]
    }
   ],
   "source": [
    "a = np.array([1, 2, 3])\n",
    "\n",
    "b = np.array([4, 5, 6])\n",
    "\n",
    "print(\"Suma:\", a + b)\n",
    "\n",
    "print(\"Multiplicación:\", a * b)"
   ]
  },
  {
   "cell_type": "code",
   "execution_count": 13,
   "id": "3e1ca56a-d13b-4943-95c4-61e677593aef",
   "metadata": {},
   "outputs": [
    {
     "name": "stdout",
     "output_type": "stream",
     "text": [
      "Multiplicar por 2: [2 4 6]\n"
     ]
    }
   ],
   "source": [
    "print(\"Multiplicar por 2:\", a * 2) # [246]\n"
   ]
  },
  {
   "cell_type": "code",
   "execution_count": 14,
   "id": "d9242037-1da2-4b75-b241-9810afd7fd86",
   "metadata": {},
   "outputs": [
    {
     "name": "stdout",
     "output_type": "stream",
     "text": [
      "Raíz cuadrada: [1.         1.41421356 1.73205081]\n"
     ]
    }
   ],
   "source": [
    "print(\"Raíz cuadrada:\", np.sqrt(a))"
   ]
  },
  {
   "cell_type": "code",
   "execution_count": 15,
   "id": "15810d38-8dfc-4d04-8f1b-74cd81fca397",
   "metadata": {},
   "outputs": [
    {
     "name": "stdout",
     "output_type": "stream",
     "text": [
      "Raíz cuadrada: [1.         1.41421356 1.73205081]\n",
      "Seno: [0.84147098 0.90929743 0.14112001]\n"
     ]
    }
   ],
   "source": [
    "\n",
    "print(\"Raíz cuadrada:\", np.sqrt(a))\n",
    "\n",
    "#2 [1. 1.414 1.732]\n",
    "\n",
    "print(\"Seno:\", np.sin(a))\n"
   ]
  },
  {
   "cell_type": "code",
   "execution_count": 16,
   "id": "e9329d48-1d36-4dd1-af33-9d4315e27670",
   "metadata": {},
   "outputs": [
    {
     "name": "stdout",
     "output_type": "stream",
     "text": [
      "2\n"
     ]
    }
   ],
   "source": [
    "arreglo_2d = np.array([[1, 2, 3], [4, 5, 6]])\n",
    "\n",
    "print(arreglo_2d[0, 1])\n"
   ]
  },
  {
   "cell_type": "code",
   "execution_count": 17,
   "id": "5d573754-d921-400f-b743-d75a57e54417",
   "metadata": {},
   "outputs": [
    {
     "name": "stdout",
     "output_type": "stream",
     "text": [
      "[2 5]\n",
      "[4 5 6]\n"
     ]
    }
   ],
   "source": [
    "print(arreglo_2d[:, 1])\n",
    "print(arreglo_2d [1, :])"
   ]
  },
  {
   "cell_type": "code",
   "execution_count": 18,
   "id": "4944f756-bbf6-4247-b193-ef34ecf7498f",
   "metadata": {},
   "outputs": [
    {
     "name": "stdout",
     "output_type": "stream",
     "text": [
      "[4 5 6]\n"
     ]
    }
   ],
   "source": [
    "print(arreglo_2d[arreglo_2d > 3])\n"
   ]
  },
  {
   "cell_type": "code",
   "execution_count": 23,
   "id": "2f2c13e7-d8d7-4bde-af44-88041a19aa1d",
   "metadata": {},
   "outputs": [
    {
     "name": "stdout",
     "output_type": "stream",
     "text": [
      "[[0 1 2]\n",
      " [3 4 5]]\n"
     ]
    }
   ],
   "source": [
    "arreglo =np.arange(6)\n",
    "\n",
    "nuevo=arreglo.reshape(2, 3)\n",
    "\n",
    "print(nuevo)\n"
   ]
  },
  {
   "cell_type": "code",
   "execution_count": 25,
   "id": "8fdd0dc3-850f-41b3-9386-dca4501b1879",
   "metadata": {},
   "outputs": [
    {
     "name": "stdout",
     "output_type": "stream",
     "text": [
      "[0 1 2 3 4 5]\n"
     ]
    }
   ],
   "source": [
    "plano =nuevo.flatten()\n",
    "\n",
    "print(plano)"
   ]
  },
  {
   "cell_type": "code",
   "execution_count": 29,
   "id": "b7e0b8d1-e92f-4677-8ef4-0464110d19a3",
   "metadata": {},
   "outputs": [
    {
     "name": "stdout",
     "output_type": "stream",
     "text": [
      "[[19 22]\n",
      " [43 50]]\n"
     ]
    }
   ],
   "source": [
    "a= np.array([[1, 2], [3, 4]])\n",
    "\n",
    "b=np.array([[5, 6], [7, 8]])\n",
    "\n",
    "print(np.dot(a,b))"
   ]
  },
  {
   "cell_type": "code",
   "execution_count": 31,
   "id": "50410688-b7b9-4216-a1be-ddef6fe57bee",
   "metadata": {},
   "outputs": [
    {
     "name": "stdout",
     "output_type": "stream",
     "text": [
      "[[1 3]\n",
      " [2 4]]\n"
     ]
    }
   ],
   "source": [
    "print(a.T)"
   ]
  },
  {
   "cell_type": "code",
   "execution_count": 40,
   "id": "178dfb00-94a1-497f-a465-142c4fc6b268",
   "metadata": {},
   "outputs": [
    {
     "name": "stdout",
     "output_type": "stream",
     "text": [
      "Suma: 10\n",
      "Promedio: 2.5\n",
      "Maximo: 4\n"
     ]
    }
   ],
   "source": [
    "print(\"Suma:\", np.sum(a))\n",
    "print(\"Promedio:\", np.mean(a))\n",
    "print(\"Maximo:\",np.max(a))"
   ]
  },
  {
   "cell_type": "code",
   "execution_count": 41,
   "id": "c9f61743-e6d5-46a8-90dd-34bd56c614de",
   "metadata": {},
   "outputs": [
    {
     "name": "stdout",
     "output_type": "stream",
     "text": [
      "[[0.10140341 0.08032657 0.86797474]\n",
      " [0.59944417 0.46128516 0.32691939]]\n"
     ]
    }
   ],
   "source": [
    "aleatorios=np.random.rand(2,3)\n",
    "print(aleatorios)"
   ]
  },
  {
   "cell_type": "code",
   "execution_count": 49,
   "id": "adb8da48-4d53-4acb-aa4e-5a795787881a",
   "metadata": {},
   "outputs": [
    {
     "name": "stdout",
     "output_type": "stream",
     "text": [
      "[[6 1]\n",
      " [1 1]]\n"
     ]
    }
   ],
   "source": [
    "enteros = np.random.randint(1, 10, size=(2, 2))\n",
    "print(enteros)"
   ]
  },
  {
   "cell_type": "code",
   "execution_count": null,
   "id": "17f1a653-8f0e-4fd3-a941-536d35eabd26",
   "metadata": {},
   "outputs": [],
   "source": []
  },
  {
   "cell_type": "code",
   "execution_count": null,
   "id": "32429521-700b-47d1-a2db-32e3176081f6",
   "metadata": {},
   "outputs": [],
   "source": []
  }
 ],
 "metadata": {
  "kernelspec": {
   "display_name": "Python 3 (ipykernel)",
   "language": "python",
   "name": "python3"
  },
  "language_info": {
   "codemirror_mode": {
    "name": "ipython",
    "version": 3
   },
   "file_extension": ".py",
   "mimetype": "text/x-python",
   "name": "python",
   "nbconvert_exporter": "python",
   "pygments_lexer": "ipython3",
   "version": "3.12.7"
  }
 },
 "nbformat": 4,
 "nbformat_minor": 5
}
