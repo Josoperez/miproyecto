{
 "cells": [
  {
   "cell_type": "markdown",
   "id": "79737e4b-ea91-4e67-91b8-1cf5c54b610f",
   "metadata": {},
   "source": [
    "Creando el Primer Areglo con Numpay"
   ]
  },
  {
   "cell_type": "code",
   "execution_count": 2,
   "id": "8e0271f9-d7b1-42d6-a692-de8cca73c1d2",
   "metadata": {},
   "outputs": [
    {
     "name": "stdout",
     "output_type": "stream",
     "text": [
      "[1 2 3 4 5]\n"
     ]
    }
   ],
   "source": [
    "import numpy  as np\n",
    "arreglo=np.array([1,2,3,4,5])\n",
    "print(arreglo)"
   ]
  },
  {
   "cell_type": "markdown",
   "id": "382eefb2-3340-40b1-9fd1-c8046975b3a5",
   "metadata": {},
   "source": [
    "Ejemplo de un Arreglo 1D (unidimensional)"
   ]
  },
  {
   "cell_type": "code",
   "execution_count": 3,
   "id": "f5b19bb5-4c77-4a5e-be8f-17112cfb6644",
   "metadata": {},
   "outputs": [
    {
     "name": "stdout",
     "output_type": "stream",
     "text": [
      "[1 2 3]\n"
     ]
    }
   ],
   "source": [
    "import numpy  as np\n",
    "arreglo_1d=np.array([1,2,3])\n",
    "print(arreglo_1d)"
   ]
  },
  {
   "cell_type": "markdown",
   "id": "384043cc-091d-4cb5-be52-07518fcff326",
   "metadata": {},
   "source": [
    "Ejemplo de un  Arreglo 2D (bidimensional)"
   ]
  },
  {
   "cell_type": "code",
   "execution_count": 4,
   "id": "53119ff5-ff42-40ce-a264-8b9c4d9f59d9",
   "metadata": {},
   "outputs": [
    {
     "name": "stdout",
     "output_type": "stream",
     "text": [
      "[[1 2 3]\n",
      " [4 5 6]]\n"
     ]
    }
   ],
   "source": [
    "arreglo_2d=np.array([[1,2,3],[4,5,6]])\n",
    "print(arreglo_2d)"
   ]
  },
  {
   "cell_type": "markdown",
   "id": "72c3abe9-7945-4054-beb2-b9180258f998",
   "metadata": {},
   "source": [
    "Ejemplos de  Arreglos con ceros o unos"
   ]
  },
  {
   "cell_type": "code",
   "execution_count": 5,
   "id": "5e87d5c6-cae8-48e3-a21d-3cdc37926e53",
   "metadata": {},
   "outputs": [
    {
     "name": "stdout",
     "output_type": "stream",
     "text": [
      "ceros:\n",
      " [[0. 0. 0.]\n",
      " [0. 0. 0.]]\n",
      "unos:\n",
      " [[1. 1.]\n",
      " [1. 1.]\n",
      " [1. 1.]]\n"
     ]
    }
   ],
   "source": [
    "ceros=np.zeros((2,3))\n",
    "unos=np.ones ((3,2))\n",
    "print(\"ceros:\\n\",ceros)\n",
    "print(\"unos:\\n\",unos)"
   ]
  },
  {
   "cell_type": "markdown",
   "id": "010644b6-92e7-4ab1-9ea8-d0f476f2582c",
   "metadata": {},
   "source": [
    "Ejemplo de Arreglos con rango"
   ]
  },
  {
   "cell_type": "code",
   "execution_count": 6,
   "id": "2c1b4505-23fe-4b41-bee7-deb37ade5851",
   "metadata": {},
   "outputs": [
    {
     "name": "stdout",
     "output_type": "stream",
     "text": [
      "[0 2 4 6 8]\n"
     ]
    }
   ],
   "source": [
    "rango=np.arange(0,10,2)\n",
    "print(rango)"
   ]
  },
  {
   "cell_type": "markdown",
   "id": "a7276fe5-5b2c-4f6e-97b8-a71bd857113b",
   "metadata": {},
   "source": [
    "Propiedades Basicas de los Arreglos\n",
    "1. Dimensión y forma:"
   ]
  },
  {
   "cell_type": "code",
   "execution_count": 7,
   "id": "492e479c-b682-42d8-b013-f7bf52863273",
   "metadata": {},
   "outputs": [
    {
     "name": "stdout",
     "output_type": "stream",
     "text": [
      "Dimensiones: 2\n",
      "Forma: (3, 2)\n",
      "Tamaño: 6\n"
     ]
    }
   ],
   "source": [
    "arreglo_2d = np.array([[1, 2], [3, 4], [5, 6]])\n",
    "\n",
    "print(\"Dimensiones:\", arreglo_2d.ndim) #2\n",
    "\n",
    "print(\"Forma:\", arreglo_2d.shape)\n",
    "\n",
    "#(3, 2)\n",
    "\n",
    "print(\"Tamaño:\", arreglo_2d.size)"
   ]
  },
  {
   "cell_type": "markdown",
   "id": "34d95c36-2709-49db-b360-5b9e56d1f66d",
   "metadata": {},
   "source": [
    "2. 2. Tipo de datos"
   ]
  },
  {
   "cell_type": "code",
   "execution_count": 8,
   "id": "fe24f7ee-f984-4937-9fa8-a244f92be46b",
   "metadata": {},
   "outputs": [
    {
     "name": "stdout",
     "output_type": "stream",
     "text": [
      "Tipo de datos: int32\n"
     ]
    }
   ],
   "source": [
    "print(\"Tipo de datos:\", arreglo_2d.dtype)"
   ]
  },
  {
   "cell_type": "markdown",
   "id": "d0282cb7-c5a3-4503-a656-52a9ed1f0b96",
   "metadata": {},
   "source": [
    "Operaciones básicas \n",
    "1. Operaciones elemento a elemento: "
   ]
  },
  {
   "cell_type": "code",
   "execution_count": 27,
   "id": "67d58f23-1d4a-43de-8108-bd7a78edfdaf",
   "metadata": {},
   "outputs": [
    {
     "name": "stdout",
     "output_type": "stream",
     "text": [
      "Suma: [5 7 9]\n",
      "Multiplicación: [ 4 10 18]\n"
     ]
    }
   ],
   "source": [
    "a = np.array([1, 2, 3])\n",
    "\n",
    "b = np.array([4, 5, 6])\n",
    "\n",
    "print(\"Suma:\", a + b)\n",
    "\n",
    "print(\"Multiplicación:\", a * b)"
   ]
  },
  {
   "cell_type": "markdown",
   "id": "0a1bd27f-abb0-4ffc-9d3a-46a973ae0398",
   "metadata": {},
   "source": [
    "2. Ejemplo de Operaciones con escalares: "
   ]
  },
  {
   "cell_type": "code",
   "execution_count": 11,
   "id": "d434a6bd-183e-4310-b871-826bee32a884",
   "metadata": {},
   "outputs": [
    {
     "name": "stdout",
     "output_type": "stream",
     "text": [
      "Multiplicar por 2: [2 4 6]\n"
     ]
    }
   ],
   "source": [
    "print(\"Multiplicar por 2:\", a * 2)"
   ]
  },
  {
   "cell_type": "markdown",
   "id": "d8726f30-f870-4cee-97dc-04ecd4ba2d69",
   "metadata": {},
   "source": [
    "Ejemplo de Funciones matemáticas: "
   ]
  },
  {
   "cell_type": "code",
   "execution_count": 12,
   "id": "f03861d4-bc1b-4d72-9b7a-b5e017446f7c",
   "metadata": {},
   "outputs": [
    {
     "name": "stdout",
     "output_type": "stream",
     "text": [
      "Raíz cuadrada: [1.         1.41421356 1.73205081]\n",
      "Seno: [0.84147098 0.90929743 0.14112001]\n"
     ]
    }
   ],
   "source": [
    "print(\"Raíz cuadrada:\", np.sqrt(a))\n",
    "\n",
    "print(\"Seno:\", np.sin(a))\n"
   ]
  },
  {
   "cell_type": "markdown",
   "id": "919d098f-786e-4d61-838c-41df1647b8f1",
   "metadata": {},
   "source": [
    "Ejemplos de Indexación y segmentación (slicing)\n",
    "1. Acceder a elementos: "
   ]
  },
  {
   "cell_type": "code",
   "execution_count": 13,
   "id": "0b9880eb-0530-415d-8d44-70922f0840ce",
   "metadata": {},
   "outputs": [
    {
     "name": "stdout",
     "output_type": "stream",
     "text": [
      "2\n"
     ]
    }
   ],
   "source": [
    "arreglo_2d = np.array([[1, 2, 3], [4, 5, 6]])\n",
    "\n",
    "print(arreglo_2d[0, 1])"
   ]
  },
  {
   "cell_type": "markdown",
   "id": "44c0bb27-5d0f-401f-a2b1-a98537a4b245",
   "metadata": {},
   "source": [
    "2. Segmentación: "
   ]
  },
  {
   "cell_type": "code",
   "execution_count": 16,
   "id": "76c35448-05f5-4aa0-9cbd-0e812cc39d52",
   "metadata": {},
   "outputs": [
    {
     "name": "stdout",
     "output_type": "stream",
     "text": [
      "[2 5]\n",
      "[4 5 6]\n"
     ]
    }
   ],
   "source": [
    "print(arreglo_2d[:, 1])\n",
    "print(arreglo_2d [1, :])"
   ]
  },
  {
   "cell_type": "markdown",
   "id": "b776d141-1c9f-4ed1-84eb-b5c0982c4b74",
   "metadata": {},
   "source": [
    "Ejemplo de 3. Condiciones (indexación booleana): "
   ]
  },
  {
   "cell_type": "code",
   "execution_count": 17,
   "id": "bd880e5a-25f4-4439-9a6d-d01f59b8f720",
   "metadata": {},
   "outputs": [
    {
     "name": "stdout",
     "output_type": "stream",
     "text": [
      "[4 5 6]\n"
     ]
    }
   ],
   "source": [
    "print(arreglo_2d[arreglo_2d > 3])"
   ]
  },
  {
   "cell_type": "markdown",
   "id": "6daa2f68-b81b-449d-81d6-340142579e86",
   "metadata": {},
   "source": [
    "Ejemplos de Cambiar la forma de los arreglos\n",
    "1. Redimensionar: "
   ]
  },
  {
   "cell_type": "code",
   "execution_count": 20,
   "id": "afe45273-c3c8-4d6d-88c2-2d1241a8a584",
   "metadata": {},
   "outputs": [
    {
     "name": "stdout",
     "output_type": "stream",
     "text": [
      "[[0 1 2]\n",
      " [3 4 5]]\n"
     ]
    }
   ],
   "source": [
    "arreglo = np.arange(6) # [012345]\n",
    "\n",
    "nuevo = arreglo.reshape(2, 3)\n",
    "\n",
    "print(nuevo)"
   ]
  },
  {
   "cell_type": "markdown",
   "id": "4bf66a7a-a496-42db-8c4a-918a5b70db1b",
   "metadata": {},
   "source": [
    "2. Ejemplo de Aplanar"
   ]
  },
  {
   "cell_type": "code",
   "execution_count": 21,
   "id": "b473a32f-eb26-4c57-81db-a4ef6e2e9d7a",
   "metadata": {},
   "outputs": [
    {
     "name": "stdout",
     "output_type": "stream",
     "text": [
      "[0 1 2 3 4 5]\n"
     ]
    }
   ],
   "source": [
    "plano = nuevo.flatten()\n",
    "\n",
    "print(plano)"
   ]
  },
  {
   "cell_type": "markdown",
   "id": "b7e503b0-e611-4b95-95c7-b788efa8a010",
   "metadata": {},
   "source": [
    "Ejemplos de Operaciones avanzadas\n",
    "1. Producto punto: "
   ]
  },
  {
   "cell_type": "code",
   "execution_count": 22,
   "id": "7a60bef9-f048-4576-8c35-5086aa564f9e",
   "metadata": {},
   "outputs": [
    {
     "name": "stdout",
     "output_type": "stream",
     "text": [
      "[[19 22]\n",
      " [43 50]]\n"
     ]
    }
   ],
   "source": [
    "a = np.array([[1, 2], [3, 4]])\n",
    "\n",
    "b = np.array([[5, 6], [7, 8]])\n",
    "\n",
    "print(np.dot(a, b))"
   ]
  },
  {
   "cell_type": "markdown",
   "id": "8ce80087-3402-4b16-b562-c3e753ae6a7c",
   "metadata": {},
   "source": [
    "2. Transpuesta: "
   ]
  },
  {
   "cell_type": "code",
   "execution_count": 23,
   "id": "0c221b87-5872-4385-85b2-415b8e1b1ff0",
   "metadata": {},
   "outputs": [
    {
     "name": "stdout",
     "output_type": "stream",
     "text": [
      "[[1 3]\n",
      " [2 4]]\n"
     ]
    }
   ],
   "source": [
    "print(a.T)"
   ]
  },
  {
   "cell_type": "markdown",
   "id": "63b33225-3d17-4e4f-9ee7-a33bf8285e61",
   "metadata": {},
   "source": [
    "3. Estadísticas: "
   ]
  },
  {
   "cell_type": "code",
   "execution_count": 24,
   "id": "c04b06de-d5d7-46d9-b7e7-4c4e4f11cc9a",
   "metadata": {},
   "outputs": [
    {
     "name": "stdout",
     "output_type": "stream",
     "text": [
      "Suma: 10\n",
      "Promedio: 2.5\n",
      "Máximo: 4\n"
     ]
    }
   ],
   "source": [
    "print(\"Suma:\", np.sum(a))\n",
    "\n",
    "print(\"Promedio:\", np.mean(a))\n",
    "\n",
    "print(\"Máximo:\", np.max(a))"
   ]
  },
  {
   "cell_type": "markdown",
   "id": "dc737ff3-a2a8-49c6-93c7-d525465986c0",
   "metadata": {},
   "source": [
    "Ejemplo de Generación de números aleatorios \n",
    "1. Números aleatorios:"
   ]
  },
  {
   "cell_type": "code",
   "execution_count": 25,
   "id": "c3e9aee4-9ab0-40ac-bdfb-10a6e58f489e",
   "metadata": {},
   "outputs": [
    {
     "name": "stdout",
     "output_type": "stream",
     "text": [
      "[[0.44531496 0.52913424 0.28544762]\n",
      " [0.82679419 0.87908192 0.52916687]]\n"
     ]
    }
   ],
   "source": [
    "aleatorios = np.random.rand(2, 3)\n",
    "print(aleatorios)"
   ]
  },
  {
   "cell_type": "markdown",
   "id": "f5653b5d-2375-499b-9331-6df01301ce9a",
   "metadata": {},
   "source": [
    "2. Enteros aleatorios: "
   ]
  },
  {
   "cell_type": "code",
   "execution_count": 26,
   "id": "d6177dab-87b3-4151-8e0e-fec9f96466a2",
   "metadata": {},
   "outputs": [
    {
     "name": "stdout",
     "output_type": "stream",
     "text": [
      "[[2 5]\n",
      " [9 5]]\n"
     ]
    }
   ],
   "source": [
    "enteros = np.random.randint(1, 10, size=(2, 2))\n",
    "print(enteros)"
   ]
  }
 ],
 "metadata": {
  "kernelspec": {
   "display_name": "Python 3 (ipykernel)",
   "language": "python",
   "name": "python3"
  },
  "language_info": {
   "codemirror_mode": {
    "name": "ipython",
    "version": 3
   },
   "file_extension": ".py",
   "mimetype": "text/x-python",
   "name": "python",
   "nbconvert_exporter": "python",
   "pygments_lexer": "ipython3",
   "version": "3.12.4"
  }
 },
 "nbformat": 4,
 "nbformat_minor": 5
}
